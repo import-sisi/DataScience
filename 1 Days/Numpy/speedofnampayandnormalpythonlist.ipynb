{
 "cells": [
  {
   "cell_type": "markdown",
   "id": "ec91f773-3c4c-437d-a80f-b07f158ad367",
   "metadata": {},
   "source": [
    "# Comparison of the execution speed of nampay and normal python list\n",
    "Many linear algebra-based operations can be performed much faster in nampy than in Python lists. Especially if the volume of data is very high"
   ]
  },
  {
   "cell_type": "code",
   "execution_count": 1,
   "id": "694bf09c-92b7-4757-9028-dbbe1381fd32",
   "metadata": {},
   "outputs": [],
   "source": [
    "import numpy as np\n",
    "import time"
   ]
  },
  {
   "cell_type": "code",
   "execution_count": 2,
   "id": "07588df3-76d4-4e5b-92e1-e7efdba58865",
   "metadata": {},
   "outputs": [],
   "source": [
    "def python_version():\n",
    "    t1 = time.time()\n",
    "    A = range(100000000)\n",
    "    B = range(100000000)\n",
    "    Z = []\n",
    "    for i in range(100000000):\n",
    "        Z.append(A[i] + B[i])\n",
    "    t2 = time.time()\n",
    "    return t2 - t1\n",
    "        "
   ]
  },
  {
   "cell_type": "code",
   "execution_count": 3,
   "id": "4a743007-9a26-44a1-9576-8c53343e60cd",
   "metadata": {},
   "outputs": [
    {
     "data": {
      "text/plain": [
       "58.85871338844299"
      ]
     },
     "execution_count": 3,
     "metadata": {},
     "output_type": "execute_result"
    }
   ],
   "source": [
    "python_version()"
   ]
  },
  {
   "cell_type": "code",
   "execution_count": 2,
   "id": "cdf88f30-c3af-4f1b-aa5b-b49448fc5891",
   "metadata": {},
   "outputs": [],
   "source": [
    "def numpy_version():\n",
    "    t1 = time.time()\n",
    "    A = np.arange(100000000)\n",
    "    B = np.arange(100000000)\n",
    "    Z = []\n",
    "    for i in range(100000000):\n",
    "        Z = A + B\n",
    "    t2 = time.time()\n",
    "    return t2 - t1"
   ]
  },
  {
   "cell_type": "code",
   "execution_count": null,
   "id": "5712cf09-7be8-40e5-aa11-07ab84d46f32",
   "metadata": {},
   "outputs": [],
   "source": [
    "numpy_version()"
   ]
  },
  {
   "cell_type": "code",
   "execution_count": null,
   "id": "8be6297e-5c09-42fc-b74d-5ebb6429cc63",
   "metadata": {},
   "outputs": [],
   "source": []
  }
 ],
 "metadata": {
  "kernelspec": {
   "display_name": "Python 3 (ipykernel)",
   "language": "python",
   "name": "python3"
  },
  "language_info": {
   "codemirror_mode": {
    "name": "ipython",
    "version": 3
   },
   "file_extension": ".py",
   "mimetype": "text/x-python",
   "name": "python",
   "nbconvert_exporter": "python",
   "pygments_lexer": "ipython3",
   "version": "3.12.2"
  }
 },
 "nbformat": 4,
 "nbformat_minor": 5
}
